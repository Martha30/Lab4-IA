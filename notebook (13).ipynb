{
 "cells": [
  {
   "cell_type": "markdown",
   "source": "# Redes Neuronales - Lab 4",
   "metadata": {
    "cell_id": "01f91661675b4e5881f9dd1dbe76c253",
    "tags": [],
    "is_collapsed": false,
    "deepnote_cell_type": "text-cell-h1"
   }
  },
  {
   "cell_type": "code",
   "metadata": {
    "tags": [],
    "cell_id": "4cb6e357-89d5-45de-9974-ee8cae15b6b4",
    "deepnote_to_be_reexecuted": false,
    "source_hash": "15f55e0c",
    "execution_start": 1649562874877,
    "execution_millis": 1783,
    "deepnote_cell_type": "code",
    "deepnote_cell_height": 135
   },
   "source": "from sklearn.datasets import make_classification\nimport matplotlib.pyplot as plt\nimport pandas as pd\nimport numpy as np",
   "execution_count": null,
   "outputs": []
  },
  {
   "cell_type": "markdown",
   "source": "### Dataset",
   "metadata": {
    "cell_id": "5df110ca808f478b9c2a440925547396",
    "tags": [],
    "is_collapsed": false,
    "deepnote_cell_type": "text-cell-h3"
   }
  },
  {
   "cell_type": "code",
   "metadata": {
    "cell_id": "4314630c982249598efcb723619d604f",
    "tags": [],
    "deepnote_to_be_reexecuted": false,
    "source_hash": "95395a80",
    "execution_start": 1649562876670,
    "execution_millis": 2,
    "deepnote_cell_type": "code",
    "deepnote_cell_height": 81
   },
   "source": "X,y = make_classification(n_samples = 50, n_features = 3, n_informative=3, n_redundant = 0, n_classes = 2)",
   "execution_count": null,
   "outputs": []
  },
  {
   "cell_type": "code",
   "metadata": {
    "cell_id": "d3ac55d7a7284ddea7f0101eeb59344a",
    "tags": [],
    "deepnote_to_be_reexecuted": false,
    "source_hash": "b2696ff6",
    "execution_start": 1649562876734,
    "execution_millis": 18,
    "deepnote_cell_type": "code",
    "deepnote_cell_height": 708,
    "deepnote_output_heights": [
     611
    ]
   },
   "source": "X",
   "execution_count": null,
   "outputs": [
    {
     "output_type": "execute_result",
     "execution_count": 3,
     "data": {
      "text/plain": "array([[-1.5543525 ,  1.73763633,  1.71849297],\n       [ 2.08706982,  0.5076644 ,  0.32597648],\n       [-1.16214773,  0.88957933, -1.14190165],\n       [-2.00177773, -2.43650177,  0.36618   ],\n       [ 0.9023206 , -1.15961113, -0.5504985 ],\n       [-0.75065831, -0.11909562, -1.38584344],\n       [-0.81830143,  1.75568823,  2.87325902],\n       [ 0.63077063,  0.9436088 ,  2.87115342],\n       [ 0.22337075, -1.93390733,  0.46648065],\n       [-1.55957422, -1.28891379,  0.20269345],\n       [ 2.81992195, -0.21052089,  1.24088845],\n       [ 0.44379043, -1.57904334, -0.8922019 ],\n       [-0.68076422, -2.81313115, -1.21254358],\n       [-1.14877738,  0.02788734, -0.3368613 ],\n       [ 2.31990137,  0.03300533,  1.14378328],\n       [-1.28134635, -0.21137161, -0.37131089],\n       [ 0.14740223, -1.87371593, -1.17853659],\n       [-1.21396637,  1.15192368, -0.92443015],\n       [-0.73832033,  1.16104896, -1.60382434],\n       [-1.13440397, -1.0980472 , -0.77553696],\n       [ 0.57787964,  2.35024365, -0.54172953],\n       [-0.70725219,  2.50055159, -0.81333028],\n       [-0.49715624,  0.65141622, -0.49055923],\n       [ 1.61572561, -0.35772921, -0.79630736],\n       [-0.83747213,  0.23267725, -1.23970746],\n       [-0.47665934, -1.54964214, -2.75840327],\n       [-1.46641371, -1.32717145, -0.48040097],\n       [-0.54451413,  0.51094404,  0.59457911],\n       [ 3.17375665,  1.40410692, -1.27701631],\n       [-1.60115776, -1.70836658, -0.59297461],\n       [ 1.06102244, -1.00838704,  0.2183029 ],\n       [-0.27305061, -2.38035114, -1.51951613],\n       [ 0.16842244,  0.87809853, -1.95305287],\n       [ 2.5140101 ,  0.44736666,  2.24913573],\n       [ 2.57893888,  0.68889916, -1.00380925],\n       [ 0.70894772, -1.27043479, -2.10321121],\n       [-1.07976726, -0.86265267, -1.35647476],\n       [-0.81883554,  1.1598703 , -1.037076  ],\n       [-0.70043359,  0.52241224, -0.47466143],\n       [-0.81947033, -1.89774183, -2.44581049],\n       [-1.18273285, -1.43338707,  0.15081446],\n       [-0.11138978, -2.29887369, -0.13415999],\n       [-0.67442972,  0.01040976, -0.54183874],\n       [-0.81605422,  1.41989706,  3.41876498],\n       [-0.59933428,  1.79645108, -2.14769593],\n       [-0.73802938, -1.6595223 , -1.45102747],\n       [ 2.32073781,  0.41006694,  2.18682769],\n       [-0.10453635,  3.629076  , -2.20472324],\n       [-0.70145216, -2.11319808, -0.93988364],\n       [-0.02153232, -2.07747171, -1.61712048]])"
     },
     "metadata": {}
    }
   ]
  },
  {
   "cell_type": "code",
   "metadata": {
    "cell_id": "2ce3d6a3e6a54bf0952fce2c476f3b3d",
    "tags": [],
    "deepnote_to_be_reexecuted": false,
    "source_hash": "2e1efb38",
    "execution_start": 1649562959918,
    "execution_millis": 536,
    "deepnote_cell_type": "code",
    "deepnote_cell_height": 726,
    "deepnote_output_heights": [
     611
    ]
   },
   "source": "yt = np.array([[r] for r in y])\nyt",
   "execution_count": null,
   "outputs": [
    {
     "output_type": "execute_result",
     "execution_count": 11,
     "data": {
      "text/plain": "array([[1],\n       [1],\n       [1],\n       [0],\n       [0],\n       [1],\n       [1],\n       [1],\n       [0],\n       [0],\n       [1],\n       [0],\n       [0],\n       [1],\n       [1],\n       [1],\n       [0],\n       [1],\n       [1],\n       [0],\n       [1],\n       [1],\n       [1],\n       [0],\n       [1],\n       [0],\n       [0],\n       [1],\n       [0],\n       [1],\n       [0],\n       [0],\n       [0],\n       [1],\n       [0],\n       [0],\n       [0],\n       [1],\n       [1],\n       [0],\n       [0],\n       [0],\n       [0],\n       [1],\n       [1],\n       [0],\n       [1],\n       [1],\n       [0],\n       [0]])"
     },
     "metadata": {}
    }
   ]
  },
  {
   "cell_type": "code",
   "metadata": {
    "cell_id": "4f89f754bcf14ffdb294d36d765689a9",
    "tags": [],
    "deepnote_to_be_reexecuted": false,
    "source_hash": "cf2a1918",
    "execution_start": 1649562876846,
    "execution_millis": 161,
    "deepnote_cell_type": "code",
    "deepnote_cell_height": 433.1875,
    "deepnote_output_heights": [
     21.1875,
     266
    ]
   },
   "source": "plt.title(\"Datos simulados\", fontsize=\"large\")\nplt.scatter(X[:, 0], X[:, 1], marker=\"o\", c=y, s=25, edgecolor=\"k\")",
   "execution_count": null,
   "outputs": [
    {
     "output_type": "execute_result",
     "execution_count": 5,
     "data": {
      "text/plain": "<matplotlib.collections.PathCollection at 0x7fb4254ae210>"
     },
     "metadata": {}
    },
    {
     "data": {
      "text/plain": "<Figure size 432x288 with 1 Axes>",
      "image/png": "[encoded data removed]"
     },
     "metadata": {
      "needs_background": "light",
      "image/png": {
       "width": 370,
       "height": 264
      }
     },
     "output_type": "display_data"
    }
   ]
  },
  {
   "cell_type": "code",
   "metadata": {
    "cell_id": "b90820eee97542f5b368f25f319d26a5",
    "tags": [],
    "deepnote_to_be_reexecuted": false,
    "source_hash": "e8643ef7",
    "execution_start": 1649562877061,
    "execution_millis": 1,
    "owner_user_id": "e6b1e377-ab79-43cc-9bc2-1d6e64da9b1b",
    "deepnote_cell_type": "code",
    "deepnote_cell_height": 135
   },
   "source": "np.random.seed(42)\nweights = np.random.rand(3,1)\nbias = np.random.rand(1)\nlr = 0.05",
   "execution_count": null,
   "outputs": []
  },
  {
   "cell_type": "code",
   "metadata": {
    "cell_id": "0d0896915b0147fb8968355343e5db37",
    "tags": [],
    "deepnote_to_be_reexecuted": false,
    "source_hash": "d8db2ae7",
    "execution_start": 1649562877062,
    "execution_millis": 0,
    "deepnote_cell_type": "code",
    "deepnote_cell_height": 675
   },
   "source": "# Clase RedNeuronal extraída de: https://towardsdatascience.com/inroduction-to-neural-networks-in-python-7e0b422e6c24\n\nclass RedNeuronal(object):\n    def __init__(self, inputs, outputs):\n        self.inputs = inputs\n        self.outputs = outputs\n        self.weights = np.array([[.50], [.50], [.50]])\n        self.error_history = []\n        self.epoch_list = []\n\n    def sigmoid(self, x, deriv=False):\n        if deriv == True:\n            return x * (1 - x)\n        return 1 / (1 + np.exp(-x))\n    \n    def feed_forward(self):\n        self.hidden = self.sigmoid(np.dot(self.inputs, self.weights))\n\n    def backpropagation(self):\n        self.error  = self.outputs - self.hidden\n        delta = self.error * self.sigmoid(self.hidden, deriv=True)\n        self.weights += np.dot(self.inputs.T, delta)\n\n    def train(self, epochs=25000):\n        for epoch in range(epochs):\n            self.feed_forward()\n            self.backpropagation()\n            self.error_history.append(np.average(np.abs(self.error)))\n            self.epoch_list.append(epoch)\n        \n    def predict(self, new_input):\n        prediction = self.sigmoid(np.dot(new_input, self.weights))\n        return prediction\n",
   "execution_count": null,
   "outputs": []
  },
  {
   "cell_type": "code",
   "metadata": {
    "cell_id": "ead7373348c943c583b5d322acb910a7",
    "tags": [],
    "deepnote_to_be_reexecuted": false,
    "source_hash": "51f1970f",
    "execution_start": 1649563004200,
    "execution_millis": 1328,
    "deepnote_cell_type": "code",
    "deepnote_cell_height": 99
   },
   "source": "RN = RedNeuronal(X, yt)\nRN.train()",
   "execution_count": null,
   "outputs": []
  },
  {
   "cell_type": "code",
   "metadata": {
    "cell_id": "1632ceb541d34f4f8a65d7ac678e2582",
    "tags": [],
    "deepnote_to_be_reexecuted": false,
    "source_hash": "63d4d78a",
    "execution_start": 1649563880053,
    "execution_millis": 231,
    "deepnote_cell_type": "code",
    "deepnote_cell_height": 485.1875,
    "deepnote_output_heights": [
     21.1875,
     282
    ]
   },
   "source": "plt.plot(list(range(1, 25001)), RN.error_history)\nplt.title(\"Error durante el entrenamiento\")\nplt.xlabel(\"Época\")\nplt.ylabel(\"Error promedio\")",
   "execution_count": null,
   "outputs": [
    {
     "output_type": "execute_result",
     "execution_count": 19,
     "data": {
      "text/plain": "Text(0, 0.5, 'Error promedio')"
     },
     "metadata": {}
    },
    {
     "data": {
      "text/plain": "<Figure size 432x288 with 1 Axes>",
      "image/png": "[encoded data removed]"
     },
     "metadata": {
      "needs_background": "light",
      "image/png": {
       "width": 392,
       "height": 280
      }
     },
     "output_type": "display_data"
    }
   ]
  },
  {
   "cell_type": "code",
   "metadata": {
    "cell_id": "637524aa144a44feadf56d65be170386",
    "tags": [],
    "deepnote_to_be_reexecuted": false,
    "source_hash": "f7d18edc",
    "execution_start": 1649563271383,
    "execution_millis": 572,
    "deepnote_cell_type": "code",
    "deepnote_cell_height": 136.1875,
    "deepnote_output_heights": [
     21.1875
    ]
   },
   "source": "test = np.array([[1,0,1]])\nRN.predict(test)",
   "execution_count": null,
   "outputs": [
    {
     "output_type": "execute_result",
     "execution_count": 13,
     "data": {
      "text/plain": "array([[0.939424]])"
     },
     "metadata": {}
    }
   ]
  },
  {
   "cell_type": "markdown",
   "source": "\\* Nota: No se pueden mostrar métricas de desempeño para la predicción de [1,0,1] ya que no se sabe cuál es el resultado esperado que debería obtener la red neuronal, solo se sabe que el resultado que predice es 0.9394",
   "metadata": {
    "cell_id": "7bbaa4bcf9b040d3835c76f31ee416d2",
    "tags": [],
    "owner_user_id": "b503eb1f-3bbb-4eb9-840a-685340dbed4f",
    "deepnote_cell_type": "markdown",
    "deepnote_cell_height": 74.78125
   }
  },
  {
   "cell_type": "code",
   "metadata": {
    "cell_id": "a45046edd2564779bf1d00d12f28eb0c",
    "tags": [],
    "deepnote_to_be_reexecuted": true,
    "source_hash": "b623e53d",
    "owner_user_id": "d59eddb8-e910-4f9e-8246-8e304941a7f0",
    "deepnote_cell_type": "code",
    "deepnote_cell_height": 81
   },
   "source": "",
   "execution_count": null,
   "outputs": []
  },
  {
   "cell_type": "markdown",
   "source": "<a style='text-decoration:none;line-height:16px;display:flex;color:#5B5B62;padding:10px;justify-content:end;' href='https://deepnote.com?utm_source=created-in-deepnote-cell&projectId=6691707f-0bf9-4583-ad6a-98274554c244' target=\"_blank\">\n<img alt='Created in deepnote.com' style='display:inline;max-height:16px;margin:0px;margin-right:7.5px;' src='data:image/svg+xml;base64,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' > </img>\nCreated in <span style='font-weight:600;margin-left:4px;'>Deepnote</span></a>",
   "metadata": {
    "tags": [],
    "created_in_deepnote_cell": true,
    "deepnote_cell_type": "markdown"
   }
  }
 ],
 "nbformat": 4,
 "nbformat_minor": 2,
 "metadata": {
  "orig_nbformat": 2,
  "deepnote": {
   "is_reactive": false
  },
  "deepnote_notebook_id": "3deee6db-458b-4d8f-9f3a-1512e6544c7f",
  "deepnote_execution_queue": []
 }
}